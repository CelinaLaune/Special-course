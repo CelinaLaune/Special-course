{
 "cells": [
  {
   "cell_type": "code",
   "execution_count": 1,
   "metadata": {},
   "outputs": [],
   "source": [
    "import pandas as pd\n",
    "import numpy as np\n",
    "import scipy.stats as st\n",
    "import matplotlib.pyplot as plt\n",
    "import seaborn as sns\n",
    "from sklearn.preprocessing import LabelEncoder\n",
    "from statsmodels.stats.proportion import proportion_confint\n",
    "from statsmodels.stats.contingency_tables import cochrans_q, mcnemar"
   ]
  },
  {
   "cell_type": "markdown",
   "metadata": {},
   "source": [
    "## Data processing"
   ]
  },
  {
   "cell_type": "code",
   "execution_count": 23,
   "metadata": {},
   "outputs": [
    {
     "data": {
      "text/html": [
       "<div>\n",
       "<style scoped>\n",
       "    .dataframe tbody tr th:only-of-type {\n",
       "        vertical-align: middle;\n",
       "    }\n",
       "\n",
       "    .dataframe tbody tr th {\n",
       "        vertical-align: top;\n",
       "    }\n",
       "\n",
       "    .dataframe thead th {\n",
       "        text-align: right;\n",
       "    }\n",
       "</style>\n",
       "<table border=\"1\" class=\"dataframe\">\n",
       "  <thead>\n",
       "    <tr style=\"text-align: right;\">\n",
       "      <th></th>\n",
       "      <th>Question number</th>\n",
       "      <th>ChatGPT</th>\n",
       "      <th>Gemini</th>\n",
       "      <th>Perplexity</th>\n",
       "      <th>Claude</th>\n",
       "      <th>Correct answers</th>\n",
       "      <th>Eksamenssæt</th>\n",
       "    </tr>\n",
       "  </thead>\n",
       "  <tbody>\n",
       "    <tr>\n",
       "      <th>0</th>\n",
       "      <td>1.0</td>\n",
       "      <td>A</td>\n",
       "      <td>B</td>\n",
       "      <td>C</td>\n",
       "      <td>B</td>\n",
       "      <td>B</td>\n",
       "      <td>\"Maj 2020\"</td>\n",
       "    </tr>\n",
       "    <tr>\n",
       "      <th>1</th>\n",
       "      <td>2.0</td>\n",
       "      <td>C</td>\n",
       "      <td>C</td>\n",
       "      <td>A</td>\n",
       "      <td>A</td>\n",
       "      <td>A</td>\n",
       "      <td>NaN</td>\n",
       "    </tr>\n",
       "    <tr>\n",
       "      <th>2</th>\n",
       "      <td>3.0</td>\n",
       "      <td>B</td>\n",
       "      <td>A</td>\n",
       "      <td>B</td>\n",
       "      <td>B</td>\n",
       "      <td>A</td>\n",
       "      <td>NaN</td>\n",
       "    </tr>\n",
       "    <tr>\n",
       "      <th>3</th>\n",
       "      <td>4.0</td>\n",
       "      <td>A</td>\n",
       "      <td>A</td>\n",
       "      <td>A</td>\n",
       "      <td>A</td>\n",
       "      <td>A</td>\n",
       "      <td>NaN</td>\n",
       "    </tr>\n",
       "    <tr>\n",
       "      <th>4</th>\n",
       "      <td>5.0</td>\n",
       "      <td>D</td>\n",
       "      <td>E</td>\n",
       "      <td>C</td>\n",
       "      <td>C</td>\n",
       "      <td>C</td>\n",
       "      <td>NaN</td>\n",
       "    </tr>\n",
       "    <tr>\n",
       "      <th>...</th>\n",
       "      <td>...</td>\n",
       "      <td>...</td>\n",
       "      <td>...</td>\n",
       "      <td>...</td>\n",
       "      <td>...</td>\n",
       "      <td>...</td>\n",
       "      <td>...</td>\n",
       "    </tr>\n",
       "    <tr>\n",
       "      <th>127</th>\n",
       "      <td>12.0</td>\n",
       "      <td>A</td>\n",
       "      <td>A</td>\n",
       "      <td>A</td>\n",
       "      <td>D</td>\n",
       "      <td>A</td>\n",
       "      <td>NaN</td>\n",
       "    </tr>\n",
       "    <tr>\n",
       "      <th>128</th>\n",
       "      <td>13.0</td>\n",
       "      <td>A</td>\n",
       "      <td>A</td>\n",
       "      <td>A</td>\n",
       "      <td>A</td>\n",
       "      <td>A</td>\n",
       "      <td>NaN</td>\n",
       "    </tr>\n",
       "    <tr>\n",
       "      <th>129</th>\n",
       "      <td>14.0</td>\n",
       "      <td>A</td>\n",
       "      <td>A</td>\n",
       "      <td>B</td>\n",
       "      <td>A</td>\n",
       "      <td>A+B</td>\n",
       "      <td>NaN</td>\n",
       "    </tr>\n",
       "    <tr>\n",
       "      <th>130</th>\n",
       "      <td>15.0</td>\n",
       "      <td>A</td>\n",
       "      <td>A</td>\n",
       "      <td>E</td>\n",
       "      <td>C</td>\n",
       "      <td>D</td>\n",
       "      <td>NaN</td>\n",
       "    </tr>\n",
       "    <tr>\n",
       "      <th>131</th>\n",
       "      <td>16.0</td>\n",
       "      <td>E</td>\n",
       "      <td>E</td>\n",
       "      <td>E</td>\n",
       "      <td>E</td>\n",
       "      <td>E</td>\n",
       "      <td>NaN</td>\n",
       "    </tr>\n",
       "  </tbody>\n",
       "</table>\n",
       "<p>132 rows × 7 columns</p>\n",
       "</div>"
      ],
      "text/plain": [
       "     Question number ChatGPT Gemini Perplexity Claude Correct answers  \\\n",
       "0                1.0       A      B          C      B               B   \n",
       "1                2.0       C      C          A      A               A   \n",
       "2                3.0       B      A          B      B               A   \n",
       "3                4.0       A      A          A      A               A   \n",
       "4                5.0       D      E          C      C               C   \n",
       "..               ...     ...    ...        ...    ...             ...   \n",
       "127             12.0       A      A          A      D               A   \n",
       "128             13.0       A      A          A      A               A   \n",
       "129             14.0       A      A          B      A             A+B   \n",
       "130             15.0       A      A          E      C               D   \n",
       "131             16.0       E      E          E      E               E   \n",
       "\n",
       "    Eksamenssæt  \n",
       "0    \"Maj 2020\"  \n",
       "1           NaN  \n",
       "2           NaN  \n",
       "3           NaN  \n",
       "4           NaN  \n",
       "..          ...  \n",
       "127         NaN  \n",
       "128         NaN  \n",
       "129         NaN  \n",
       "130         NaN  \n",
       "131         NaN  \n",
       "\n",
       "[132 rows x 7 columns]"
      ]
     },
     "execution_count": 23,
     "metadata": {},
     "output_type": "execute_result"
    }
   ],
   "source": [
    "#Importer dataset\n",
    "df = pd.read_csv('LLM_Dataset.csv')\n",
    "df = df[0:132]\n",
    "df"
   ]
  },
  {
   "cell_type": "code",
   "execution_count": 24,
   "metadata": {},
   "outputs": [
    {
     "name": "stdout",
     "output_type": "stream",
     "text": [
      "0    False\n",
      "1    False\n",
      "2    False\n",
      "3     True\n",
      "4    False\n",
      "5     True\n",
      "6     True\n",
      "7     True\n",
      "8    False\n",
      "9     True\n",
      "dtype: bool\n"
     ]
    },
    {
     "data": {
      "text/plain": [
       "132"
      ]
     },
     "execution_count": 24,
     "metadata": {},
     "output_type": "execute_result"
    }
   ],
   "source": [
    "#Calculate all correct answers\n",
    "GPT4o_correct = df['ChatGPT']==df['Correct answers']\n",
    "Gemini_correct = df['Gemini']==df['Correct answers']\n",
    "Perplexity_correct = df['Perplexity']==df['Correct answers']\n",
    "Claude_correct = df['Claude']==df['Correct answers']\n",
    "\n",
    "#Example of correct list\n",
    "print(GPT4o_correct[0:10])\n",
    "len(GPT4o_correct)"
   ]
  },
  {
   "cell_type": "markdown",
   "metadata": {},
   "source": [
    "## Data evaluation"
   ]
  },
  {
   "cell_type": "code",
   "execution_count": 25,
   "metadata": {},
   "outputs": [
    {
     "name": "stdout",
     "output_type": "stream",
     "text": [
      "ChatGPT 4o accuracy: 0.6590909090909091\n",
      "Gemini accuracy: 0.7045454545454546\n",
      "Perplexity accuracy: 0.6818181818181818\n",
      "Claude accuracy: 0.5984848484848485\n"
     ]
    }
   ],
   "source": [
    "#Calculate and print accuracy for each LLM\n",
    "print(\"ChatGPT 4o accuracy:\", np.mean(GPT4o_correct))\n",
    "print(\"Gemini accuracy:\", np.mean(Gemini_correct))\n",
    "print(\"Perplexity accuracy:\", np.mean(Perplexity_correct))\n",
    "print(\"Claude accuracy:\", np.mean(Claude_correct))"
   ]
  },
  {
   "cell_type": "code",
   "execution_count": 28,
   "metadata": {},
   "outputs": [
    {
     "name": "stdout",
     "output_type": "stream",
     "text": [
      "ChatGPT 4o upper and lower bound: (0.578227308077091, 0.7399545101047271)\n",
      "Gemini upper and lower bound: (0.6267129560369156, 0.7823779530539936)\n",
      "Perplexity upper and lower bound: (0.6023610115877481, 0.7612753520486154)\n",
      "Claude upper and lower bound: (0.5148593586497512, 0.6821103383199458)\n"
     ]
    }
   ],
   "source": [
    "#Calculate upper and lower bound of 95% confidensintercal\n",
    "print(\"ChatGPT 4o upper and lower bound:\",proportion_confint(np.sum(GPT4o_correct), len(GPT4o_correct)))\n",
    "print(\"Gemini upper and lower bound:\",proportion_confint(np.sum(Gemini_correct), len(Gemini_correct)))\n",
    "print(\"Perplexity upper and lower bound:\",proportion_confint(np.sum(Perplexity_correct), len(Perplexity_correct)))\n",
    "print(\"Claude upper and lower bound:\",proportion_confint(np.sum(Claude_correct), len(Claude_correct)))"
   ]
  },
  {
   "cell_type": "code",
   "execution_count": null,
   "metadata": {},
   "outputs": [
    {
     "data": {
      "image/png": "[encoded data removed]",
      "text/plain": [
       "<Figure size 800x600 with 1 Axes>"
      ]
     },
     "metadata": {},
     "output_type": "display_data"
    }
   ],
   "source": [
    "#Data\n",
    "models = ['ChatGPT 4o', 'Gemini', 'Perplexity', 'Claude']\n",
    "accuracy = [0.6590909, 0.7045455, 0.6818182, 0.5984848]\n",
    "lower_bound = [0.578226, 0.626712, 0.602360, 0.5148594]\n",
    "upper_bound = [0.739956, 0.782379, 0.761277, 0.6821103]\n",
    "\n",
    "#Calculate the errors\n",
    "error = [upper - acc for upper, acc in zip(upper_bound, accuracy)]\n",
    "\n",
    "#Set the Seaborn style\n",
    "sns.set(style=\"whitegrid\")\n",
    "colors = ['#F08080', '#FFA07A', '#0000FF', '#87CEEB']  \n",
    "\n",
    "#Create a bar plot\n",
    "plt.figure(figsize=(8, 6))\n",
    "plt.bar(\n",
    "    models, \n",
    "    accuracy, \n",
    "    yerr=error, \n",
    "    capsize=5, \n",
    "    color=colors, \n",
    "    edgecolor=\"black\", \n",
    "    alpha=0.9\n",
    ")\n",
    "\n",
    "#Customize the plot\n",
    "plt.ylim(0, 0.8)\n",
    "plt.ylabel('Accuracy Score', fontsize=12)\n",
    "plt.title('Bar Plot of Models Accuracy', fontsize=14, fontweight='bold', pad=20)\n",
    "plt.tight_layout()\n",
    "\n",
    "#Show the plot\n",
    "plt.show()\n"
   ]
  },
  {
   "cell_type": "code",
   "execution_count": 34,
   "metadata": {},
   "outputs": [
    {
     "name": "stdout",
     "output_type": "stream",
     "text": [
      "df          131\n",
      "pvalue      1.8969512051446187e-15\n",
      "statistic   301.3363208459604\n"
     ]
    }
   ],
   "source": [
    "print(cochrans_q([GPT4o_correct,Gemini_correct,Perplexity_correct,Claude_correct]))"
   ]
  },
  {
   "cell_type": "code",
   "execution_count": 35,
   "metadata": {},
   "outputs": [
    {
     "name": "stdout",
     "output_type": "stream",
     "text": [
      "pvalue      0.36159460805356514\n",
      "statistic   12.0\n",
      "pvalue      0.6900379657745361\n",
      "statistic   11.0\n",
      "pvalue      0.22948101302608848\n",
      "statistic   13.0\n",
      "pvalue      0.755228657504631\n",
      "statistic   19.0\n",
      "pvalue      0.03355243967962451\n",
      "statistic   12.0\n",
      "pvalue      0.08953107893466952\n",
      "statistic   12.0\n"
     ]
    }
   ],
   "source": [
    "Posthoc = pd.crosstab(GPT4o_correct, Gemini_correct)\n",
    "print(mcnemar(Posthoc))\n",
    "\n",
    "Posthoc = pd.crosstab(GPT4o_correct, Perplexity_correct)\n",
    "print(mcnemar(Posthoc))\n",
    "\n",
    "Posthoc = pd.crosstab(GPT4o_correct, Claude_correct)\n",
    "print(mcnemar(Posthoc))\n",
    "\n",
    "Posthoc = pd.crosstab(Gemini_correct, Perplexity_correct)\n",
    "print(mcnemar(Posthoc))\n",
    "\n",
    "Posthoc = pd.crosstab(Gemini_correct, Claude_correct)\n",
    "print(mcnemar(Posthoc))\n",
    "\n",
    "Posthoc = pd.crosstab(Perplexity_correct, Claude_correct)\n",
    "print(mcnemar(Posthoc))"
   ]
  },
  {
   "cell_type": "markdown",
   "metadata": {},
   "source": [
    "## Accuracies testing"
   ]
  },
  {
   "cell_type": "code",
   "execution_count": 47,
   "metadata": {},
   "outputs": [
    {
     "name": "stdout",
     "output_type": "stream",
     "text": [
      "16 6\n",
      "6 7\n",
      "7 5\n",
      "60 25\n"
     ]
    }
   ],
   "source": [
    "# Initialize counters\n",
    "GPT4o_Perplexity_correct = 0\n",
    "GPT4o_Perplexity_wrong = 0\n",
    "\n",
    "GPT4o_Claude_correct = 0\n",
    "GPT4o_Claude_wrong = 0\n",
    "\n",
    "Perplexity_Claude_correct = 0\n",
    "Perplexity_Claude_wrong = 0\n",
    "\n",
    "All_3_correct = 0\n",
    "All_3_wrong = 0\n",
    "\n",
    "# Iterate through the DataFrame rows\n",
    "for index, row in df.iterrows():\n",
    "    # Check conditions and increment counters accordingly\n",
    "    if row['ChatGPT'] == row['Perplexity'] == row['Correct answers'] and row['Claude'] != row['Correct answers']:\n",
    "        GPT4o_Perplexity_correct += 1\n",
    "    elif row['ChatGPT'] != row['Correct answers'] and row['Perplexity'] != row['Correct answers'] and row['Claude'] == row['Correct answers']:\n",
    "        GPT4o_Perplexity_wrong += 1\n",
    "    elif row['ChatGPT'] == row['Claude'] == row['Correct answers'] and row['Perplexity'] != row['Correct answers']:\n",
    "        GPT4o_Claude_correct += 1\n",
    "    elif row['ChatGPT'] != row['Correct answers'] and row['Claude'] != row['Correct answers'] and row['Perplexity'] == row['Correct answers']:\n",
    "        GPT4o_Claude_wrong += 1\n",
    "    elif row['Perplexity'] == row['Claude'] == row['Correct answers'] and row['ChatGPT'] != row['Correct answers']:\n",
    "        Perplexity_Claude_correct += 1\n",
    "    elif row['Perplexity'] != row['Correct answers'] and row['Claude'] != row['Correct answers'] and row['ChatGPT'] == row['Correct answers']:\n",
    "        Perplexity_Claude_wrong += 1\n",
    "    elif row['ChatGPT'] == row['Perplexity'] == row['Claude'] == row['Correct answers']:\n",
    "        All_3_correct += 1\n",
    "    elif row['ChatGPT'] != row['Correct answers'] and row['Perplexity'] != row['Correct answers'] and row['Claude'] != row['Correct answers']:\n",
    "        All_3_wrong += 1\n",
    "\n",
    "print(GPT4o_Perplexity_correct,GPT4o_Perplexity_wrong)\n",
    "\n",
    "print(GPT4o_Claude_correct,GPT4o_Claude_wrong)\n",
    "\n",
    "print(Perplexity_Claude_correct, Perplexity_Claude_wrong)\n",
    "\n",
    "print(All_3_correct, All_3_wrong)\n"
   ]
  },
  {
   "cell_type": "code",
   "execution_count": 50,
   "metadata": {},
   "outputs": [
    {
     "data": {
      "image/png": "[encoded data removed]",
      "text/plain": [
       "<Figure size 1000x600 with 1 Axes>"
      ]
     },
     "metadata": {},
     "output_type": "display_data"
    }
   ],
   "source": [
    "import matplotlib.pyplot as plt\n",
    "import numpy as np\n",
    "\n",
    "# Data from the table\n",
    "categories = [\"ChatGPT & Perplexity\", \"Claude & Perplexity\", \"Claude & ChatGPT\", \"All 3\"]\n",
    "total_wrong = [6, 7, 5, 25]\n",
    "total_right = [16, 6, 7, 60]\n",
    "\n",
    "# Bar positions\n",
    "x = np.arange(len(categories))\n",
    "\n",
    "# Bar width\n",
    "bar_width = 0.2\n",
    "\n",
    "# Colors for the bars using HTML color codes\n",
    "wrong_color = '#FF0000'  # Red for \"Total Wrong\"\n",
    "right_color = '#AAE092'  # Green for \"Total Right\"\n",
    "\n",
    "# Plotting\n",
    "fig, ax = plt.subplots(figsize=(10, 6))\n",
    "\n",
    "bars1 = ax.bar(x - bar_width/2, total_wrong, bar_width, label=\"Total Wrong\", color=wrong_color)\n",
    "bars2 = ax.bar(x + bar_width/2, total_right, bar_width, label=\"Total Right\", color=right_color)\n",
    "\n",
    "# Adding labels, title, and legend\n",
    "ax.set_xlabel(\"Categories\")\n",
    "ax.set_ylabel(\"Count\")\n",
    "ax.set_title(\"Histogram of Right and Wrong Counts\")\n",
    "ax.set_xticks(x)\n",
    "ax.set_xticklabels(categories)\n",
    "ax.legend()\n",
    "\n",
    "# Adding value annotations\n",
    "for bar in bars1 + bars2:\n",
    "    height = bar.get_height()\n",
    "    ax.text(bar.get_x() + bar.get_width() / 2.0, height, f'{height}', ha='center', va='bottom')\n",
    "\n",
    "# Show the plot\n",
    "plt.tight_layout()\n",
    "plt.show()\n"
   ]
  }
 ],
 "metadata": {
  "kernelspec": {
   "display_name": "Python 3",
   "language": "python",
   "name": "python3"
  },
  "language_info": {
   "codemirror_mode": {
    "name": "ipython",
    "version": 3
   },
   "file_extension": ".py",
   "mimetype": "text/x-python",
   "name": "python",
   "nbconvert_exporter": "python",
   "pygments_lexer": "ipython3",
   "version": "3.11.9"
  }
 },
 "nbformat": 4,
 "nbformat_minor": 2
}
