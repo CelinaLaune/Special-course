{
 "cells": [
  {
   "cell_type": "code",
   "execution_count": 25,
   "metadata": {},
   "outputs": [],
   "source": [
    "import pandas as pd\n",
    "import numpy as np\n",
    "import matplotlib.pyplot as plt\n",
    "import seaborn as sns\n",
    "from statsmodels.stats.proportion import proportion_confint\n",
    "from statsmodels.stats.contingency_tables import cochrans_q, mcnemar"
   ]
  },
  {
   "cell_type": "markdown",
   "metadata": {},
   "source": [
    "## Data processing"
   ]
  },
  {
   "cell_type": "code",
   "execution_count": 26,
   "metadata": {},
   "outputs": [
    {
     "data": {
      "text/html": [
       "<div>\n",
       "<style scoped>\n",
       "    .dataframe tbody tr th:only-of-type {\n",
       "        vertical-align: middle;\n",
       "    }\n",
       "\n",
       "    .dataframe tbody tr th {\n",
       "        vertical-align: top;\n",
       "    }\n",
       "\n",
       "    .dataframe thead th {\n",
       "        text-align: right;\n",
       "    }\n",
       "</style>\n",
       "<table border=\"1\" class=\"dataframe\">\n",
       "  <thead>\n",
       "    <tr style=\"text-align: right;\">\n",
       "      <th></th>\n",
       "      <th>Question number</th>\n",
       "      <th>ChatGPT</th>\n",
       "      <th>Gemini</th>\n",
       "      <th>Perplexity</th>\n",
       "      <th>Claude</th>\n",
       "      <th>Correct answers</th>\n",
       "      <th>Eksamenssæt</th>\n",
       "    </tr>\n",
       "  </thead>\n",
       "  <tbody>\n",
       "    <tr>\n",
       "      <th>0</th>\n",
       "      <td>1</td>\n",
       "      <td>A</td>\n",
       "      <td>B</td>\n",
       "      <td>C</td>\n",
       "      <td>B</td>\n",
       "      <td>B</td>\n",
       "      <td>\"Maj 2020\"</td>\n",
       "    </tr>\n",
       "    <tr>\n",
       "      <th>1</th>\n",
       "      <td>2</td>\n",
       "      <td>C</td>\n",
       "      <td>C</td>\n",
       "      <td>A</td>\n",
       "      <td>A</td>\n",
       "      <td>A</td>\n",
       "      <td>NaN</td>\n",
       "    </tr>\n",
       "    <tr>\n",
       "      <th>2</th>\n",
       "      <td>3</td>\n",
       "      <td>B</td>\n",
       "      <td>A</td>\n",
       "      <td>B</td>\n",
       "      <td>B</td>\n",
       "      <td>A</td>\n",
       "      <td>NaN</td>\n",
       "    </tr>\n",
       "    <tr>\n",
       "      <th>3</th>\n",
       "      <td>4</td>\n",
       "      <td>A</td>\n",
       "      <td>A</td>\n",
       "      <td>A</td>\n",
       "      <td>A</td>\n",
       "      <td>A</td>\n",
       "      <td>NaN</td>\n",
       "    </tr>\n",
       "    <tr>\n",
       "      <th>4</th>\n",
       "      <td>5</td>\n",
       "      <td>D</td>\n",
       "      <td>E</td>\n",
       "      <td>C</td>\n",
       "      <td>C</td>\n",
       "      <td>C</td>\n",
       "      <td>NaN</td>\n",
       "    </tr>\n",
       "    <tr>\n",
       "      <th>...</th>\n",
       "      <td>...</td>\n",
       "      <td>...</td>\n",
       "      <td>...</td>\n",
       "      <td>...</td>\n",
       "      <td>...</td>\n",
       "      <td>...</td>\n",
       "      <td>...</td>\n",
       "    </tr>\n",
       "    <tr>\n",
       "      <th>158</th>\n",
       "      <td>10</td>\n",
       "      <td>E</td>\n",
       "      <td>D</td>\n",
       "      <td>E</td>\n",
       "      <td>E</td>\n",
       "      <td>E</td>\n",
       "      <td>NaN</td>\n",
       "    </tr>\n",
       "    <tr>\n",
       "      <th>159</th>\n",
       "      <td>11</td>\n",
       "      <td>B</td>\n",
       "      <td>B</td>\n",
       "      <td>A</td>\n",
       "      <td>C</td>\n",
       "      <td>B</td>\n",
       "      <td>NaN</td>\n",
       "    </tr>\n",
       "    <tr>\n",
       "      <th>160</th>\n",
       "      <td>12</td>\n",
       "      <td>C</td>\n",
       "      <td>B</td>\n",
       "      <td>C</td>\n",
       "      <td>C</td>\n",
       "      <td>C</td>\n",
       "      <td>NaN</td>\n",
       "    </tr>\n",
       "    <tr>\n",
       "      <th>161</th>\n",
       "      <td>13</td>\n",
       "      <td>C</td>\n",
       "      <td>B+D</td>\n",
       "      <td>C</td>\n",
       "      <td>G</td>\n",
       "      <td>D</td>\n",
       "      <td>NaN</td>\n",
       "    </tr>\n",
       "    <tr>\n",
       "      <th>162</th>\n",
       "      <td>14</td>\n",
       "      <td>A</td>\n",
       "      <td>A</td>\n",
       "      <td>A</td>\n",
       "      <td>A</td>\n",
       "      <td>A</td>\n",
       "      <td>NaN</td>\n",
       "    </tr>\n",
       "  </tbody>\n",
       "</table>\n",
       "<p>163 rows × 7 columns</p>\n",
       "</div>"
      ],
      "text/plain": [
       "     Question number ChatGPT Gemini Perplexity Claude Correct answers  \\\n",
       "0                  1       A      B          C      B               B   \n",
       "1                  2       C      C          A      A               A   \n",
       "2                  3       B      A          B      B               A   \n",
       "3                  4       A      A          A      A               A   \n",
       "4                  5       D      E          C      C               C   \n",
       "..               ...     ...    ...        ...    ...             ...   \n",
       "158               10       E      D          E      E               E   \n",
       "159               11       B      B          A      C               B   \n",
       "160               12       C      B          C      C               C   \n",
       "161               13       C    B+D          C      G               D   \n",
       "162               14       A      A          A      A               A   \n",
       "\n",
       "    Eksamenssæt  \n",
       "0    \"Maj 2020\"  \n",
       "1           NaN  \n",
       "2           NaN  \n",
       "3           NaN  \n",
       "4           NaN  \n",
       "..          ...  \n",
       "158         NaN  \n",
       "159         NaN  \n",
       "160         NaN  \n",
       "161         NaN  \n",
       "162         NaN  \n",
       "\n",
       "[163 rows x 7 columns]"
      ]
     },
     "execution_count": 26,
     "metadata": {},
     "output_type": "execute_result"
    }
   ],
   "source": [
    "#Importer dataset\n",
    "df = pd.read_csv('LLM_Dataset_.csv')\n",
    "df = df[0:165]\n",
    "df"
   ]
  },
  {
   "cell_type": "code",
   "execution_count": 27,
   "metadata": {},
   "outputs": [
    {
     "name": "stdout",
     "output_type": "stream",
     "text": [
      "0    False\n",
      "1    False\n",
      "2    False\n",
      "3     True\n",
      "4    False\n",
      "5     True\n",
      "6     True\n",
      "7     True\n",
      "8    False\n",
      "9     True\n",
      "dtype: bool\n"
     ]
    },
    {
     "data": {
      "text/plain": [
       "163"
      ]
     },
     "execution_count": 27,
     "metadata": {},
     "output_type": "execute_result"
    }
   ],
   "source": [
    "#Calculate all correct answers\n",
    "GPT4o_correct = df['ChatGPT']==df['Correct answers']\n",
    "Gemini_correct = df['Gemini']==df['Correct answers']\n",
    "Perplexity_correct = df['Perplexity']==df['Correct answers']\n",
    "Claude_correct = df['Claude']==df['Correct answers']\n",
    "\n",
    "#Example of correct list\n",
    "print(GPT4o_correct[0:10])\n",
    "len(GPT4o_correct)"
   ]
  },
  {
   "cell_type": "markdown",
   "metadata": {},
   "source": [
    "## Data evaluation"
   ]
  },
  {
   "cell_type": "code",
   "execution_count": 28,
   "metadata": {},
   "outputs": [
    {
     "name": "stdout",
     "output_type": "stream",
     "text": [
      "ChatGPT 4o accuracy: 0.6319018404907976\n",
      "Gemini accuracy: 0.6932515337423313\n",
      "Perplexity accuracy: 0.6441717791411042\n",
      "Claude accuracy: 0.6012269938650306\n"
     ]
    }
   ],
   "source": [
    "#Calculate and print accuracy for each\n",
    "print(\"ChatGPT 4o accuracy:\", np.mean(GPT4o_correct))\n",
    "print(\"Gemini accuracy:\", np.mean(Gemini_correct))\n",
    "print(\"Perplexity accuracy:\", np.mean(Perplexity_correct))\n",
    "print(\"Claude accuracy:\", np.mean(Claude_correct))"
   ]
  },
  {
   "cell_type": "code",
   "execution_count": 29,
   "metadata": {},
   "outputs": [
    {
     "name": "stdout",
     "output_type": "stream",
     "text": [
      "ChatGPT 4o upper and lower bound: (0.5578627761186297, 0.7059409048629655)\n",
      "Gemini upper and lower bound: (0.6224584373274412, 0.7640446301572213)\n",
      "Perplexity upper and lower bound: (0.570673811406816, 0.7176697468753925)\n",
      "Claude upper and lower bound: (0.5260584044390468, 0.6763955832910145)\n"
     ]
    }
   ],
   "source": [
    "#Calculate upper and lower bound of 95% confidensintercal\n",
    "print(\"ChatGPT 4o upper and lower bound:\",proportion_confint(np.sum(GPT4o_correct), len(GPT4o_correct)))\n",
    "print(\"Gemini upper and lower bound:\",proportion_confint(np.sum(Gemini_correct), len(Gemini_correct)))\n",
    "print(\"Perplexity upper and lower bound:\",proportion_confint(np.sum(Perplexity_correct), len(Perplexity_correct)))\n",
    "print(\"Claude upper and lower bound:\",proportion_confint(np.sum(Claude_correct), len(Claude_correct)))"
   ]
  },
  {
   "cell_type": "code",
   "execution_count": 30,
   "metadata": {},
   "outputs": [
    {
     "data": {
      "image/png": "[encoded data removed]",
      "text/plain": [
       "<Figure size 800x600 with 1 Axes>"
      ]
     },
     "metadata": {},
     "output_type": "display_data"
    }
   ],
   "source": [
    "#Data\n",
    "models = ['ChatGPT 4o', 'Gemini', 'Perplexity', 'Claude']\n",
    "accuracy = [0.6319018404907976,0.6932515337423313 , 0.6441717791411042, 0.6012269938650306]\n",
    "lower_bound = [0.6012269938650306, 0.6224584373274412, 0.570673811406816, 0.5260584044390468]\n",
    "upper_bound = [0.7059409048629655, 0.7640446301572213, 0.7176697468753925, 0.6763955832910145]\n",
    "\n",
    "#Calculate the errors\n",
    "error = [upper - acc for upper, acc in zip(upper_bound, accuracy)]\n",
    "\n",
    "#Set the Seaborn style\n",
    "sns.set(style=\"whitegrid\")\n",
    "colors = ['#F08080', '#FFA07A', '#0000FF', '#87CEEB']  \n",
    "\n",
    "#Create a bar plot\n",
    "plt.figure(figsize=(8, 6))\n",
    "plt.bar(\n",
    "    models, \n",
    "    accuracy, \n",
    "    yerr=error, \n",
    "    capsize=5, \n",
    "    color=colors, \n",
    "    edgecolor=\"black\", \n",
    "    alpha=0.9\n",
    ")\n",
    "\n",
    "#Customize the plot\n",
    "plt.ylim(0, 1)\n",
    "plt.ylabel('Accuracy Score', fontsize=12)\n",
    "plt.title('Bar Plot of Models Accuracy', fontsize=14, fontweight='bold', pad=20)\n",
    "plt.tight_layout()\n",
    "\n",
    "#Show the plot\n",
    "plt.show()\n"
   ]
  },
  {
   "cell_type": "code",
   "execution_count": 31,
   "metadata": {},
   "outputs": [
    {
     "name": "stdout",
     "output_type": "stream",
     "text": [
      "df          162\n",
      "pvalue      8.540832335611768e-19\n",
      "statistic   373.9005351996706\n"
     ]
    }
   ],
   "source": [
    "print(cochrans_q([GPT4o_correct,Gemini_correct,Perplexity_correct,Claude_correct]))"
   ]
  },
  {
   "cell_type": "code",
   "execution_count": 32,
   "metadata": {},
   "outputs": [
    {
     "name": "stdout",
     "output_type": "stream",
     "text": [
      "pvalue      0.16414940178310644\n",
      "statistic   16.0\n",
      "pvalue      0.860050065908581\n",
      "statistic   15.0\n",
      "pvalue      0.542384011856484\n",
      "statistic   19.0\n",
      "pvalue      0.3222363203575469\n",
      "statistic   21.0\n",
      "pvalue      0.03998605682605215\n",
      "statistic   16.0\n",
      "pvalue      0.34888887944907765\n",
      "statistic   17.0\n"
     ]
    }
   ],
   "source": [
    "Posthoc = pd.crosstab(GPT4o_correct, Gemini_correct)\n",
    "print(mcnemar(Posthoc))\n",
    "\n",
    "Posthoc = pd.crosstab(GPT4o_correct, Perplexity_correct)\n",
    "print(mcnemar(Posthoc))\n",
    "\n",
    "Posthoc = pd.crosstab(GPT4o_correct, Claude_correct)\n",
    "print(mcnemar(Posthoc))\n",
    "\n",
    "Posthoc = pd.crosstab(Gemini_correct, Perplexity_correct)\n",
    "print(mcnemar(Posthoc))\n",
    "\n",
    "Posthoc = pd.crosstab(Gemini_correct, Claude_correct)\n",
    "print(mcnemar(Posthoc))\n",
    "\n",
    "Posthoc = pd.crosstab(Perplexity_correct, Claude_correct)\n",
    "print(mcnemar(Posthoc))"
   ]
  },
  {
   "cell_type": "markdown",
   "metadata": {},
   "source": [
    "## Perplexity potential"
   ]
  },
  {
   "cell_type": "code",
   "execution_count": 33,
   "metadata": {},
   "outputs": [
    {
     "name": "stdout",
     "output_type": "stream",
     "text": [
      "17 9\n",
      "8 7\n",
      "10 7\n",
      "71 34\n"
     ]
    }
   ],
   "source": [
    "# Initialize counters\n",
    "GPT4o_Perplexity_correct = 0\n",
    "GPT4o_Perplexity_wrong = 0\n",
    "\n",
    "GPT4o_Claude_correct = 0\n",
    "GPT4o_Claude_wrong = 0\n",
    "\n",
    "Perplexity_Claude_correct = 0\n",
    "Perplexity_Claude_wrong = 0\n",
    "\n",
    "All_3_correct = 0\n",
    "All_3_wrong = 0\n",
    "\n",
    "# Iterate through the Data\n",
    "for index, row in df.iterrows():\n",
    "    # Check conditions and to counters\n",
    "    if row['ChatGPT'] == row['Perplexity'] == row['Correct answers'] and row['Claude'] != row['Correct answers']:\n",
    "        GPT4o_Perplexity_correct += 1\n",
    "    elif row['ChatGPT'] != row['Correct answers'] and row['Perplexity'] != row['Correct answers'] and row['Claude'] == row['Correct answers']:\n",
    "        GPT4o_Perplexity_wrong += 1\n",
    "    elif row['ChatGPT'] == row['Claude'] == row['Correct answers'] and row['Perplexity'] != row['Correct answers']:\n",
    "        GPT4o_Claude_correct += 1\n",
    "    elif row['ChatGPT'] != row['Correct answers'] and row['Claude'] != row['Correct answers'] and row['Perplexity'] == row['Correct answers']:\n",
    "        GPT4o_Claude_wrong += 1\n",
    "    elif row['Perplexity'] == row['Claude'] == row['Correct answers'] and row['ChatGPT'] != row['Correct answers']:\n",
    "        Perplexity_Claude_correct += 1\n",
    "    elif row['Perplexity'] != row['Correct answers'] and row['Claude'] != row['Correct answers'] and row['ChatGPT'] == row['Correct answers']:\n",
    "        Perplexity_Claude_wrong += 1\n",
    "    elif row['ChatGPT'] == row['Perplexity'] == row['Claude'] == row['Correct answers']:\n",
    "        All_3_correct += 1\n",
    "    elif row['ChatGPT'] != row['Correct answers'] and row['Perplexity'] != row['Correct answers'] and row['Claude'] != row['Correct answers']:\n",
    "        All_3_wrong += 1\n",
    "\n",
    "#Print counters\n",
    "print(GPT4o_Perplexity_correct,GPT4o_Perplexity_wrong)\n",
    "\n",
    "print(GPT4o_Claude_correct,GPT4o_Claude_wrong)\n",
    "\n",
    "print(Perplexity_Claude_correct, Perplexity_Claude_wrong)\n",
    "\n",
    "print(All_3_correct, All_3_wrong)\n"
   ]
  },
  {
   "cell_type": "code",
   "execution_count": 43,
   "metadata": {},
   "outputs": [
    {
     "data": {
      "image/png": "[encoded data removed]",
      "text/plain": [
       "<Figure size 1000x600 with 1 Axes>"
      ]
     },
     "metadata": {},
     "output_type": "display_data"
    }
   ],
   "source": [
    "# Data from the table\n",
    "categories = [\"Perplexity chose\\nChatGPT\", \"Perplexity chose\\nClaude\",\n",
    "              \"Perplexity chose neither\\nClaude & ChatGPT\",\n",
    "              \"Perplexity chose both\\nChatGPT and Claude\"]\n",
    "total_wrong = [9, 7, 10, 34]\n",
    "total_right = [17, 8, 7, 71]\n",
    "\n",
    "# Bar positions\n",
    "x = np.arange(len(categories))\n",
    "\n",
    "# Bar width\n",
    "bar_width = 0.2\n",
    "\n",
    "# Colors for the bars using HTML color codes\n",
    "wrong_color = '#FF0000'\n",
    "right_color = '#AAE092'\n",
    "\n",
    "# Plotting\n",
    "fig, ax = plt.subplots(figsize=(10, 6))\n",
    "\n",
    "bars1 = ax.bar(x - bar_width/2, total_wrong, bar_width, label=\"Total Wrong\", color=wrong_color)\n",
    "bars2 = ax.bar(x + bar_width/2, total_right, bar_width, label=\"Total Right\", color=right_color)\n",
    "\n",
    "# Adding labels, title, and legend\n",
    "ax.set_xlabel(\"Categories\")\n",
    "ax.set_ylabel(\"Count\")\n",
    "ax.set_title(\"Histogram of Right and Wrong Counts\")\n",
    "ax.set_xticks(x)\n",
    "ax.set_xticklabels(categories) # No rotation needed now\n",
    "ax.legend()\n",
    "\n",
    "# Adding value annotations\n",
    "for bar in bars1 + bars2:\n",
    "    height = bar.get_height()\n",
    "    ax.text(bar.get_x() + bar.get_width() / 2.0, height, f'{height}', ha='center', va='bottom')\n",
    "\n",
    "# Show the plot\n",
    "plt.tight_layout()\n",
    "plt.show()"
   ]
  },
  {
   "cell_type": "code",
   "execution_count": 35,
   "metadata": {},
   "outputs": [
    {
     "data": {
      "text/plain": [
       "0       True\n",
       "1       True\n",
       "2      False\n",
       "3       True\n",
       "4       True\n",
       "       ...  \n",
       "158     True\n",
       "159     True\n",
       "160     True\n",
       "161    False\n",
       "162     True\n",
       "Length: 163, dtype: bool"
      ]
     },
     "execution_count": 35,
     "metadata": {},
     "output_type": "execute_result"
    }
   ],
   "source": [
    "# Create Perplexity_potential\n",
    "Perplexity_potential_correct = GPT4o_correct | Perplexity_correct | Claude_correct\n",
    "Perplexity_potential_correct"
   ]
  },
  {
   "cell_type": "code",
   "execution_count": 36,
   "metadata": {},
   "outputs": [
    {
     "data": {
      "text/plain": [
       "0.7914110429447853"
      ]
     },
     "execution_count": 36,
     "metadata": {},
     "output_type": "execute_result"
    }
   ],
   "source": [
    "#accuracy of Perplexity potential\n",
    "np.mean(Perplexity_potential_correct)"
   ]
  },
  {
   "cell_type": "code",
   "execution_count": 37,
   "metadata": {},
   "outputs": [
    {
     "name": "stdout",
     "output_type": "stream",
     "text": [
      "Perplexity upper and lower bound: (0.7290374160511649, 0.8537846698384056)\n"
     ]
    }
   ],
   "source": [
    "#Confidence interval Perplexity Potential\n",
    "print(\"Perplexity upper and lower bound:\",proportion_confint(np.sum(Perplexity_potential_correct), len(Perplexity_potential_correct)))"
   ]
  },
  {
   "cell_type": "code",
   "execution_count": 38,
   "metadata": {},
   "outputs": [
    {
     "data": {
      "image/png": "[encoded data removed]",
      "text/plain": [
       "<Figure size 800x600 with 1 Axes>"
      ]
     },
     "metadata": {},
     "output_type": "display_data"
    }
   ],
   "source": [
    "#Data\n",
    "models = ['ChatGPT 4o', 'Gemini', 'Perplexity', 'Claude']\n",
    "accuracy = [0.6319018404907976,0.6932515337423313 , 0.7914110429447853, 0.6012269938650306]\n",
    "lower_bound = [0.6012269938650306, 0.6224584373274412, 0.7290374160511649, 0.5260584044390468]\n",
    "upper_bound = [0.7059409048629655, 0.7640446301572213, 0.8537846698384056, 0.6763955832910145]\n",
    "\n",
    "#Calculate the errors\n",
    "error = [upper - acc for upper, acc in zip(upper_bound, accuracy)]\n",
    "\n",
    "#Set the Seaborn style\n",
    "sns.set(style=\"whitegrid\")\n",
    "colors = ['#6BB7AB', '#92E09D', '#E092D0', '#4A82E3']  \n",
    "\n",
    "#Create a bar plot\n",
    "plt.figure(figsize=(8, 6))\n",
    "plt.bar(\n",
    "    models, \n",
    "    accuracy, \n",
    "    yerr=error, \n",
    "    capsize=5, \n",
    "    color=colors, \n",
    "    edgecolor=\"black\", \n",
    "    alpha=0.9\n",
    ")\n",
    "\n",
    "#Customize the plot\n",
    "plt.ylim(0, 1)\n",
    "plt.ylabel('Accuracy Score', fontsize=12)\n",
    "plt.title('Bar Plot of Models Accuracy', fontsize=14, fontweight='bold', pad=20)\n",
    "plt.tight_layout()\n",
    "\n",
    "#Show the plot\n",
    "plt.show()\n"
   ]
  },
  {
   "cell_type": "code",
   "execution_count": 39,
   "metadata": {},
   "outputs": [
    {
     "name": "stdout",
     "output_type": "stream",
     "text": [
      "df          162\n",
      "pvalue      5.741259992104223e-22\n",
      "statistic   398.6952979721952\n"
     ]
    }
   ],
   "source": [
    "#Cochrans Q test\n",
    "print(cochrans_q([GPT4o_correct,Gemini_correct,Perplexity_potential_correct,Claude_correct]))"
   ]
  },
  {
   "cell_type": "code",
   "execution_count": 40,
   "metadata": {},
   "outputs": [
    {
     "name": "stdout",
     "output_type": "stream",
     "text": [
      "pvalue      2.9802322387695312e-08\n",
      "statistic   0.0\n",
      "pvalue      0.013852965261321515\n",
      "statistic   11.0\n",
      "pvalue      9.313225746154785e-10\n",
      "statistic   0.0\n"
     ]
    }
   ],
   "source": [
    "#Posthoc analysis\n",
    "Posthoc = pd.crosstab(GPT4o_correct, Perplexity_potential_correct)\n",
    "print(mcnemar(Posthoc))\n",
    "\n",
    "Posthoc = pd.crosstab(Gemini_correct, Perplexity_potential_correct)\n",
    "print(mcnemar(Posthoc))\n",
    "\n",
    "Posthoc = pd.crosstab(Perplexity_potential_correct, Claude_correct)\n",
    "print(mcnemar(Posthoc))"
   ]
  }
 ],
 "metadata": {
  "kernelspec": {
   "display_name": "Python 3",
   "language": "python",
   "name": "python3"
  },
  "language_info": {
   "codemirror_mode": {
    "name": "ipython",
    "version": 3
   },
   "file_extension": ".py",
   "mimetype": "text/x-python",
   "name": "python",
   "nbconvert_exporter": "python",
   "pygments_lexer": "ipython3",
   "version": "3.11.9"
  }
 },
 "nbformat": 4,
 "nbformat_minor": 2
}
